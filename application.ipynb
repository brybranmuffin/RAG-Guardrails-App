{
 "cells": [
  {
   "cell_type": "markdown",
   "metadata": {},
   "source": [
    "## AI for Education - with RAG and Guardrails\n",
    "\n",
    "### Purpose of this Notebook\n",
    "The purpose of this notebook is to create a RAG application with guardrails. RAG can be used to provide up-to-date information to users and help reduce hallucinations. Guardrails can be used to give developers more control over the behavior of the model, preventing it from generating harmful or inappropriate content. Together, RAG and guardrails can be used to create a more reliable and safe application.\n",
    "\n",
    "### Inspiration\n",
    "This type of application was inspired by my time as an Undergraduate Instructor at UC Berkeley. Teachers are often understaffed and don't have time to answer all the questions students have. Many students today are using AI to help them learn the material. While using general-purpose AI can be helpful, ,amy students use it to cheat on assignments and generate code for them on their projects. Additionally, every semester, a course like CS10 may have new policies, materials, or other changes that are not reflected in general-purpose AI.\n",
    "\n",
    "### Solution\n",
    "The combination of RAG and guardrails used in this notebook addresses both of these issues. RAG is used to provide up-to-date information on the course syllabus and lecture notes, and guardrails are used to prevent the model from explicitly generating code snippets. For classes who want students to use LLMs but want to limit the LLM's ability to help students cheat, this application can be a great tool.\n",
    "\n",
    "### Sections\n",
    "1. Package Installation\n",
    "2. Data Ingestion to Build Vector DB\n",
    "3. RAG Query Engine\n",
    "4. Guardrails\n",
    "5. Observability\n",
    "6. Future Steps\n",
    "\n",
    " \n",
    "\n"
   ]
  },
  {
   "cell_type": "markdown",
   "metadata": {},
   "source": [
    "## Package Installation\n",
    "\n",
    "Please run the following codde to install the necessary packages. If you followed the instructions in the README, you should already have these installed. But if you need to install them again or you just want to make sure they're installed, you can run the following code."
   ]
  },
  {
   "cell_type": "code",
   "execution_count": 79,
   "metadata": {},
   "outputs": [
    {
     "name": "stdout",
     "output_type": "stream",
     "text": [
      "Requirement already satisfied: ipykernel in /Users/bryantbettencourt/Library/Python/3.11/lib/python/site-packages (6.29.5)\n",
      "Requirement already satisfied: appnope in /Users/bryantbettencourt/Library/Python/3.11/lib/python/site-packages (from ipykernel) (0.1.4)\n",
      "Requirement already satisfied: comm>=0.1.1 in /Users/bryantbettencourt/Library/Python/3.11/lib/python/site-packages (from ipykernel) (0.2.2)\n",
      "Requirement already satisfied: debugpy>=1.6.5 in /Users/bryantbettencourt/Library/Python/3.11/lib/python/site-packages (from ipykernel) (1.8.13)\n",
      "Requirement already satisfied: ipython>=7.23.1 in /Users/bryantbettencourt/Library/Python/3.11/lib/python/site-packages (from ipykernel) (9.0.2)\n",
      "Requirement already satisfied: jupyter-client>=6.1.12 in /Users/bryantbettencourt/Library/Python/3.11/lib/python/site-packages (from ipykernel) (8.6.3)\n",
      "Requirement already satisfied: jupyter-core!=5.0.*,>=4.12 in /Users/bryantbettencourt/Library/Python/3.11/lib/python/site-packages (from ipykernel) (5.7.2)\n",
      "Requirement already satisfied: matplotlib-inline>=0.1 in /Users/bryantbettencourt/Library/Python/3.11/lib/python/site-packages (from ipykernel) (0.1.7)\n",
      "Requirement already satisfied: nest-asyncio in /opt/homebrew/lib/python3.11/site-packages (from ipykernel) (1.6.0)\n",
      "Requirement already satisfied: packaging in /opt/homebrew/lib/python3.11/site-packages (from ipykernel) (24.1)\n",
      "Requirement already satisfied: psutil in /Users/bryantbettencourt/Library/Python/3.11/lib/python/site-packages (from ipykernel) (7.0.0)\n",
      "Requirement already satisfied: pyzmq>=24 in /Users/bryantbettencourt/Library/Python/3.11/lib/python/site-packages (from ipykernel) (26.3.0)\n",
      "Requirement already satisfied: tornado>=6.1 in /Users/bryantbettencourt/Library/Python/3.11/lib/python/site-packages (from ipykernel) (6.4.2)\n",
      "Requirement already satisfied: traitlets>=5.4.0 in /Users/bryantbettencourt/Library/Python/3.11/lib/python/site-packages (from ipykernel) (5.14.3)\n",
      "Requirement already satisfied: decorator in /Users/bryantbettencourt/Library/Python/3.11/lib/python/site-packages (from ipython>=7.23.1->ipykernel) (5.2.1)\n",
      "Requirement already satisfied: ipython-pygments-lexers in /Users/bryantbettencourt/Library/Python/3.11/lib/python/site-packages (from ipython>=7.23.1->ipykernel) (1.1.1)\n",
      "Requirement already satisfied: jedi>=0.16 in /Users/bryantbettencourt/Library/Python/3.11/lib/python/site-packages (from ipython>=7.23.1->ipykernel) (0.19.2)\n",
      "Requirement already satisfied: pexpect>4.3 in /Users/bryantbettencourt/Library/Python/3.11/lib/python/site-packages (from ipython>=7.23.1->ipykernel) (4.9.0)\n",
      "Requirement already satisfied: prompt_toolkit<3.1.0,>=3.0.41 in /Users/bryantbettencourt/Library/Python/3.11/lib/python/site-packages (from ipython>=7.23.1->ipykernel) (3.0.50)\n",
      "Requirement already satisfied: pygments>=2.4.0 in /Users/bryantbettencourt/Library/Python/3.11/lib/python/site-packages (from ipython>=7.23.1->ipykernel) (2.19.1)\n",
      "Requirement already satisfied: stack_data in /Users/bryantbettencourt/Library/Python/3.11/lib/python/site-packages (from ipython>=7.23.1->ipykernel) (0.6.3)\n",
      "Requirement already satisfied: typing_extensions>=4.6 in /opt/homebrew/lib/python3.11/site-packages (from ipython>=7.23.1->ipykernel) (4.12.2)\n",
      "Requirement already satisfied: python-dateutil>=2.8.2 in /opt/homebrew/lib/python3.11/site-packages (from jupyter-client>=6.1.12->ipykernel) (2.9.0.post0)\n",
      "Requirement already satisfied: platformdirs>=2.5 in /Users/bryantbettencourt/Library/Python/3.11/lib/python/site-packages (from jupyter-core!=5.0.*,>=4.12->ipykernel) (4.3.7)\n",
      "Requirement already satisfied: parso<0.9.0,>=0.8.4 in /Users/bryantbettencourt/Library/Python/3.11/lib/python/site-packages (from jedi>=0.16->ipython>=7.23.1->ipykernel) (0.8.4)\n",
      "Requirement already satisfied: ptyprocess>=0.5 in /Users/bryantbettencourt/Library/Python/3.11/lib/python/site-packages (from pexpect>4.3->ipython>=7.23.1->ipykernel) (0.7.0)\n",
      "Requirement already satisfied: wcwidth in /Users/bryantbettencourt/Library/Python/3.11/lib/python/site-packages (from prompt_toolkit<3.1.0,>=3.0.41->ipython>=7.23.1->ipykernel) (0.2.13)\n",
      "Requirement already satisfied: six>=1.5 in /opt/homebrew/lib/python3.11/site-packages (from python-dateutil>=2.8.2->jupyter-client>=6.1.12->ipykernel) (1.16.0)\n",
      "Requirement already satisfied: executing>=1.2.0 in /Users/bryantbettencourt/Library/Python/3.11/lib/python/site-packages (from stack_data->ipython>=7.23.1->ipykernel) (2.2.0)\n",
      "Requirement already satisfied: asttokens>=2.1.0 in /Users/bryantbettencourt/Library/Python/3.11/lib/python/site-packages (from stack_data->ipython>=7.23.1->ipykernel) (3.0.0)\n",
      "Requirement already satisfied: pure-eval in /Users/bryantbettencourt/Library/Python/3.11/lib/python/site-packages (from stack_data->ipython>=7.23.1->ipykernel) (0.2.3)\n",
      "\n",
      "\u001b[1m[\u001b[0m\u001b[34;49mnotice\u001b[0m\u001b[1;39;49m]\u001b[0m\u001b[39;49m A new release of pip is available: \u001b[0m\u001b[31;49m24.2\u001b[0m\u001b[39;49m -> \u001b[0m\u001b[32;49m25.0.1\u001b[0m\n",
      "\u001b[1m[\u001b[0m\u001b[34;49mnotice\u001b[0m\u001b[1;39;49m]\u001b[0m\u001b[39;49m To update, run: \u001b[0m\u001b[32;49mpython3.11 -m pip install --upgrade pip\u001b[0m\n",
      "Note: you may need to restart the kernel to use updated packages.\n"
     ]
    }
   ],
   "source": [
    "pip install ipykernel"
   ]
  },
  {
   "cell_type": "code",
   "execution_count": 80,
   "metadata": {},
   "outputs": [
    {
     "name": "stdout",
     "output_type": "stream",
     "text": [
      "Requirement already satisfied: pinecone in /opt/homebrew/lib/python3.11/site-packages (6.0.2)\n",
      "Requirement already satisfied: certifi>=2019.11.17 in /opt/homebrew/lib/python3.11/site-packages (from pinecone) (2024.8.30)\n",
      "Requirement already satisfied: pinecone-plugin-interface<0.0.8,>=0.0.7 in /opt/homebrew/lib/python3.11/site-packages (from pinecone) (0.0.7)\n",
      "Requirement already satisfied: python-dateutil>=2.5.3 in /opt/homebrew/lib/python3.11/site-packages (from pinecone) (2.9.0.post0)\n",
      "Requirement already satisfied: typing-extensions>=3.7.4 in /opt/homebrew/lib/python3.11/site-packages (from pinecone) (4.12.2)\n",
      "Requirement already satisfied: urllib3>=1.26.0 in /opt/homebrew/lib/python3.11/site-packages (from pinecone) (2.2.3)\n",
      "Requirement already satisfied: six>=1.5 in /opt/homebrew/lib/python3.11/site-packages (from python-dateutil>=2.5.3->pinecone) (1.16.0)\n",
      "\n",
      "\u001b[1m[\u001b[0m\u001b[34;49mnotice\u001b[0m\u001b[1;39;49m]\u001b[0m\u001b[39;49m A new release of pip is available: \u001b[0m\u001b[31;49m24.2\u001b[0m\u001b[39;49m -> \u001b[0m\u001b[32;49m25.0.1\u001b[0m\n",
      "\u001b[1m[\u001b[0m\u001b[34;49mnotice\u001b[0m\u001b[1;39;49m]\u001b[0m\u001b[39;49m To update, run: \u001b[0m\u001b[32;49mpython3.11 -m pip install --upgrade pip\u001b[0m\n",
      "Note: you may need to restart the kernel to use updated packages.\n"
     ]
    }
   ],
   "source": [
    "pip install pinecone"
   ]
  },
  {
   "cell_type": "code",
   "execution_count": 81,
   "metadata": {},
   "outputs": [
    {
     "name": "stdout",
     "output_type": "stream",
     "text": [
      "Requirement already satisfied: llama-index in /opt/homebrew/lib/python3.11/site-packages (0.11.17)\n",
      "Requirement already satisfied: llama-index-agent-openai<0.4.0,>=0.3.4 in /opt/homebrew/lib/python3.11/site-packages (from llama-index) (0.3.4)\n",
      "Requirement already satisfied: llama-index-cli<0.4.0,>=0.3.1 in /opt/homebrew/lib/python3.11/site-packages (from llama-index) (0.3.1)\n",
      "Collecting llama-index-core<0.12.0,>=0.11.17 (from llama-index)\n",
      "  Using cached llama_index_core-0.11.23-py3-none-any.whl.metadata (2.5 kB)\n",
      "Requirement already satisfied: llama-index-embeddings-openai<0.3.0,>=0.2.4 in /opt/homebrew/lib/python3.11/site-packages (from llama-index) (0.2.5)\n",
      "Requirement already satisfied: llama-index-indices-managed-llama-cloud>=0.3.0 in /opt/homebrew/lib/python3.11/site-packages (from llama-index) (0.4.0)\n",
      "Requirement already satisfied: llama-index-legacy<0.10.0,>=0.9.48 in /opt/homebrew/lib/python3.11/site-packages (from llama-index) (0.9.48.post3)\n",
      "Requirement already satisfied: llama-index-llms-openai<0.3.0,>=0.2.10 in /opt/homebrew/lib/python3.11/site-packages (from llama-index) (0.2.13)\n",
      "Requirement already satisfied: llama-index-multi-modal-llms-openai<0.3.0,>=0.2.0 in /opt/homebrew/lib/python3.11/site-packages (from llama-index) (0.2.2)\n",
      "Requirement already satisfied: llama-index-program-openai<0.3.0,>=0.2.0 in /opt/homebrew/lib/python3.11/site-packages (from llama-index) (0.2.0)\n",
      "Requirement already satisfied: llama-index-question-gen-openai<0.3.0,>=0.2.0 in /opt/homebrew/lib/python3.11/site-packages (from llama-index) (0.2.0)\n",
      "Requirement already satisfied: llama-index-readers-file<0.3.0,>=0.2.0 in /opt/homebrew/lib/python3.11/site-packages (from llama-index) (0.2.2)\n",
      "Requirement already satisfied: llama-index-readers-llama-parse>=0.3.0 in /opt/homebrew/lib/python3.11/site-packages (from llama-index) (0.3.0)\n",
      "Requirement already satisfied: nltk>3.8.1 in /opt/homebrew/lib/python3.11/site-packages (from llama-index) (3.9.1)\n",
      "Requirement already satisfied: openai>=1.14.0 in /opt/homebrew/lib/python3.11/site-packages (from llama-index-agent-openai<0.4.0,>=0.3.4->llama-index) (1.68.2)\n",
      "Requirement already satisfied: PyYAML>=6.0.1 in /opt/homebrew/lib/python3.11/site-packages (from llama-index-core<0.12.0,>=0.11.17->llama-index) (6.0.2)\n",
      "Requirement already satisfied: SQLAlchemy>=1.4.49 in /opt/homebrew/lib/python3.11/site-packages (from SQLAlchemy[asyncio]>=1.4.49->llama-index-core<0.12.0,>=0.11.17->llama-index) (2.0.35)\n",
      "Requirement already satisfied: aiohttp<4.0.0,>=3.8.6 in /opt/homebrew/lib/python3.11/site-packages (from llama-index-core<0.12.0,>=0.11.17->llama-index) (3.11.14)\n",
      "Requirement already satisfied: dataclasses-json in /opt/homebrew/lib/python3.11/site-packages (from llama-index-core<0.12.0,>=0.11.17->llama-index) (0.6.7)\n",
      "Requirement already satisfied: deprecated>=1.2.9.3 in /opt/homebrew/lib/python3.11/site-packages (from llama-index-core<0.12.0,>=0.11.17->llama-index) (1.2.14)\n",
      "Requirement already satisfied: dirtyjson<2.0.0,>=1.0.8 in /opt/homebrew/lib/python3.11/site-packages (from llama-index-core<0.12.0,>=0.11.17->llama-index) (1.0.8)\n",
      "Requirement already satisfied: filetype<2.0.0,>=1.2.0 in /opt/homebrew/lib/python3.11/site-packages (from llama-index-core<0.12.0,>=0.11.17->llama-index) (1.2.0)\n",
      "Requirement already satisfied: fsspec>=2023.5.0 in /opt/homebrew/lib/python3.11/site-packages (from llama-index-core<0.12.0,>=0.11.17->llama-index) (2024.9.0)\n",
      "Requirement already satisfied: httpx in /opt/homebrew/lib/python3.11/site-packages (from llama-index-core<0.12.0,>=0.11.17->llama-index) (0.27.2)\n",
      "Requirement already satisfied: nest-asyncio<2.0.0,>=1.5.8 in /opt/homebrew/lib/python3.11/site-packages (from llama-index-core<0.12.0,>=0.11.17->llama-index) (1.6.0)\n",
      "Requirement already satisfied: networkx>=3.0 in /opt/homebrew/lib/python3.11/site-packages (from llama-index-core<0.12.0,>=0.11.17->llama-index) (3.4.1)\n",
      "Requirement already satisfied: numpy<2.0.0 in /opt/homebrew/lib/python3.11/site-packages (from llama-index-core<0.12.0,>=0.11.17->llama-index) (1.26.4)\n",
      "Requirement already satisfied: pillow>=9.0.0 in /opt/homebrew/lib/python3.11/site-packages (from llama-index-core<0.12.0,>=0.11.17->llama-index) (10.4.0)\n",
      "Requirement already satisfied: pydantic<3.0.0,>=2.7.0 in /opt/homebrew/lib/python3.11/site-packages (from llama-index-core<0.12.0,>=0.11.17->llama-index) (2.9.2)\n",
      "Requirement already satisfied: requests>=2.31.0 in /opt/homebrew/lib/python3.11/site-packages (from llama-index-core<0.12.0,>=0.11.17->llama-index) (2.32.3)\n",
      "Requirement already satisfied: tenacity!=8.4.0,<9.0.0,>=8.2.0 in /opt/homebrew/lib/python3.11/site-packages (from llama-index-core<0.12.0,>=0.11.17->llama-index) (8.5.0)\n",
      "Requirement already satisfied: tiktoken>=0.3.3 in /opt/homebrew/lib/python3.11/site-packages (from llama-index-core<0.12.0,>=0.11.17->llama-index) (0.8.0)\n",
      "Requirement already satisfied: tqdm<5.0.0,>=4.66.1 in /opt/homebrew/lib/python3.11/site-packages (from llama-index-core<0.12.0,>=0.11.17->llama-index) (4.66.5)\n",
      "Requirement already satisfied: typing-extensions>=4.5.0 in /opt/homebrew/lib/python3.11/site-packages (from llama-index-core<0.12.0,>=0.11.17->llama-index) (4.12.2)\n",
      "Requirement already satisfied: typing-inspect>=0.8.0 in /opt/homebrew/lib/python3.11/site-packages (from llama-index-core<0.12.0,>=0.11.17->llama-index) (0.9.0)\n",
      "Requirement already satisfied: wrapt in /opt/homebrew/lib/python3.11/site-packages (from llama-index-core<0.12.0,>=0.11.17->llama-index) (1.16.0)\n",
      "Requirement already satisfied: llama-cloud>=0.0.11 in /opt/homebrew/lib/python3.11/site-packages (from llama-index-indices-managed-llama-cloud>=0.3.0->llama-index) (0.1.2)\n",
      "Requirement already satisfied: pandas in /opt/homebrew/lib/python3.11/site-packages (from llama-index-legacy<0.10.0,>=0.9.48->llama-index) (2.2.3)\n",
      "Requirement already satisfied: beautifulsoup4<5.0.0,>=4.12.3 in /opt/homebrew/lib/python3.11/site-packages (from llama-index-readers-file<0.3.0,>=0.2.0->llama-index) (4.12.3)\n",
      "Requirement already satisfied: pypdf<5.0.0,>=4.0.1 in /opt/homebrew/lib/python3.11/site-packages (from llama-index-readers-file<0.3.0,>=0.2.0->llama-index) (4.3.1)\n",
      "Requirement already satisfied: striprtf<0.0.27,>=0.0.26 in /opt/homebrew/lib/python3.11/site-packages (from llama-index-readers-file<0.3.0,>=0.2.0->llama-index) (0.0.26)\n",
      "Requirement already satisfied: llama-parse>=0.5.0 in /opt/homebrew/lib/python3.11/site-packages (from llama-index-readers-llama-parse>=0.3.0->llama-index) (0.5.7)\n",
      "Requirement already satisfied: click in /opt/homebrew/lib/python3.11/site-packages (from nltk>3.8.1->llama-index) (8.1.7)\n",
      "Requirement already satisfied: joblib in /opt/homebrew/lib/python3.11/site-packages (from nltk>3.8.1->llama-index) (1.4.2)\n",
      "Requirement already satisfied: regex>=2021.8.3 in /opt/homebrew/lib/python3.11/site-packages (from nltk>3.8.1->llama-index) (2024.9.11)\n",
      "Requirement already satisfied: aiohappyeyeballs>=2.3.0 in /opt/homebrew/lib/python3.11/site-packages (from aiohttp<4.0.0,>=3.8.6->llama-index-core<0.12.0,>=0.11.17->llama-index) (2.4.3)\n",
      "Requirement already satisfied: aiosignal>=1.1.2 in /opt/homebrew/lib/python3.11/site-packages (from aiohttp<4.0.0,>=3.8.6->llama-index-core<0.12.0,>=0.11.17->llama-index) (1.3.1)\n",
      "Requirement already satisfied: attrs>=17.3.0 in /opt/homebrew/lib/python3.11/site-packages (from aiohttp<4.0.0,>=3.8.6->llama-index-core<0.12.0,>=0.11.17->llama-index) (24.2.0)\n",
      "Requirement already satisfied: frozenlist>=1.1.1 in /opt/homebrew/lib/python3.11/site-packages (from aiohttp<4.0.0,>=3.8.6->llama-index-core<0.12.0,>=0.11.17->llama-index) (1.4.1)\n",
      "Requirement already satisfied: multidict<7.0,>=4.5 in /opt/homebrew/lib/python3.11/site-packages (from aiohttp<4.0.0,>=3.8.6->llama-index-core<0.12.0,>=0.11.17->llama-index) (6.1.0)\n",
      "Requirement already satisfied: propcache>=0.2.0 in /opt/homebrew/lib/python3.11/site-packages (from aiohttp<4.0.0,>=3.8.6->llama-index-core<0.12.0,>=0.11.17->llama-index) (0.2.0)\n",
      "Requirement already satisfied: yarl<2.0,>=1.17.0 in /opt/homebrew/lib/python3.11/site-packages (from aiohttp<4.0.0,>=3.8.6->llama-index-core<0.12.0,>=0.11.17->llama-index) (1.18.3)\n",
      "Requirement already satisfied: soupsieve>1.2 in /opt/homebrew/lib/python3.11/site-packages (from beautifulsoup4<5.0.0,>=4.12.3->llama-index-readers-file<0.3.0,>=0.2.0->llama-index) (2.6)\n",
      "Requirement already satisfied: anyio in /opt/homebrew/lib/python3.11/site-packages (from httpx->llama-index-core<0.12.0,>=0.11.17->llama-index) (4.6.0)\n",
      "Requirement already satisfied: certifi in /opt/homebrew/lib/python3.11/site-packages (from httpx->llama-index-core<0.12.0,>=0.11.17->llama-index) (2024.8.30)\n",
      "Requirement already satisfied: httpcore==1.* in /opt/homebrew/lib/python3.11/site-packages (from httpx->llama-index-core<0.12.0,>=0.11.17->llama-index) (1.0.6)\n",
      "Requirement already satisfied: idna in /opt/homebrew/lib/python3.11/site-packages (from httpx->llama-index-core<0.12.0,>=0.11.17->llama-index) (3.10)\n",
      "Requirement already satisfied: sniffio in /opt/homebrew/lib/python3.11/site-packages (from httpx->llama-index-core<0.12.0,>=0.11.17->llama-index) (1.3.1)\n",
      "Requirement already satisfied: h11<0.15,>=0.13 in /opt/homebrew/lib/python3.11/site-packages (from httpcore==1.*->httpx->llama-index-core<0.12.0,>=0.11.17->llama-index) (0.14.0)\n",
      "Requirement already satisfied: distro<2,>=1.7.0 in /opt/homebrew/lib/python3.11/site-packages (from openai>=1.14.0->llama-index-agent-openai<0.4.0,>=0.3.4->llama-index) (1.9.0)\n",
      "Requirement already satisfied: jiter<1,>=0.4.0 in /opt/homebrew/lib/python3.11/site-packages (from openai>=1.14.0->llama-index-agent-openai<0.4.0,>=0.3.4->llama-index) (0.6.1)\n",
      "Requirement already satisfied: annotated-types>=0.6.0 in /opt/homebrew/lib/python3.11/site-packages (from pydantic<3.0.0,>=2.7.0->llama-index-core<0.12.0,>=0.11.17->llama-index) (0.7.0)\n",
      "Requirement already satisfied: pydantic-core==2.23.4 in /opt/homebrew/lib/python3.11/site-packages (from pydantic<3.0.0,>=2.7.0->llama-index-core<0.12.0,>=0.11.17->llama-index) (2.23.4)\n",
      "Requirement already satisfied: charset-normalizer<4,>=2 in /opt/homebrew/lib/python3.11/site-packages (from requests>=2.31.0->llama-index-core<0.12.0,>=0.11.17->llama-index) (3.4.0)\n",
      "Requirement already satisfied: urllib3<3,>=1.21.1 in /opt/homebrew/lib/python3.11/site-packages (from requests>=2.31.0->llama-index-core<0.12.0,>=0.11.17->llama-index) (2.2.3)\n",
      "Requirement already satisfied: greenlet!=0.4.17 in /opt/homebrew/lib/python3.11/site-packages (from SQLAlchemy[asyncio]>=1.4.49->llama-index-core<0.12.0,>=0.11.17->llama-index) (3.1.1)\n",
      "Requirement already satisfied: mypy-extensions>=0.3.0 in /opt/homebrew/lib/python3.11/site-packages (from typing-inspect>=0.8.0->llama-index-core<0.12.0,>=0.11.17->llama-index) (1.0.0)\n",
      "Requirement already satisfied: marshmallow<4.0.0,>=3.18.0 in /opt/homebrew/lib/python3.11/site-packages (from dataclasses-json->llama-index-core<0.12.0,>=0.11.17->llama-index) (3.22.0)\n",
      "Requirement already satisfied: python-dateutil>=2.8.2 in /opt/homebrew/lib/python3.11/site-packages (from pandas->llama-index-legacy<0.10.0,>=0.9.48->llama-index) (2.9.0.post0)\n",
      "Requirement already satisfied: pytz>=2020.1 in /opt/homebrew/lib/python3.11/site-packages (from pandas->llama-index-legacy<0.10.0,>=0.9.48->llama-index) (2024.2)\n",
      "Requirement already satisfied: tzdata>=2022.7 in /opt/homebrew/lib/python3.11/site-packages (from pandas->llama-index-legacy<0.10.0,>=0.9.48->llama-index) (2024.2)\n",
      "Requirement already satisfied: packaging>=17.0 in /opt/homebrew/lib/python3.11/site-packages (from marshmallow<4.0.0,>=3.18.0->dataclasses-json->llama-index-core<0.12.0,>=0.11.17->llama-index) (24.1)\n",
      "Requirement already satisfied: six>=1.5 in /opt/homebrew/lib/python3.11/site-packages (from python-dateutil>=2.8.2->pandas->llama-index-legacy<0.10.0,>=0.9.48->llama-index) (1.16.0)\n",
      "Downloading llama_index_core-0.11.23-py3-none-any.whl (1.6 MB)\n",
      "\u001b[2K   \u001b[90m━━━━━━━━━━━━━━━━━━━━━━━━━━━━━━━━━━━━━━━━\u001b[0m \u001b[32m1.6/1.6 MB\u001b[0m \u001b[31m18.0 MB/s\u001b[0m eta \u001b[36m0:00:00\u001b[0m\n",
      "\u001b[?25hInstalling collected packages: llama-index-core\n",
      "  Attempting uninstall: llama-index-core\n",
      "    Found existing installation: llama-index-core 0.12.25\n",
      "    Uninstalling llama-index-core-0.12.25:\n",
      "      Successfully uninstalled llama-index-core-0.12.25\n",
      "\u001b[31mERROR: pip's dependency resolver does not currently take into account all the packages that are installed. This behaviour is the source of the following dependency conflicts.\n",
      "llama-index-vector-stores-pinecone 0.4.5 requires llama-index-core<0.13.0,>=0.12.0, but you have llama-index-core 0.11.23 which is incompatible.\u001b[0m\u001b[31m\n",
      "\u001b[0mSuccessfully installed llama-index-core-0.11.23\n",
      "\n",
      "\u001b[1m[\u001b[0m\u001b[34;49mnotice\u001b[0m\u001b[1;39;49m]\u001b[0m\u001b[39;49m A new release of pip is available: \u001b[0m\u001b[31;49m24.2\u001b[0m\u001b[39;49m -> \u001b[0m\u001b[32;49m25.0.1\u001b[0m\n",
      "\u001b[1m[\u001b[0m\u001b[34;49mnotice\u001b[0m\u001b[1;39;49m]\u001b[0m\u001b[39;49m To update, run: \u001b[0m\u001b[32;49mpython3.11 -m pip install --upgrade pip\u001b[0m\n",
      "Note: you may need to restart the kernel to use updated packages.\n"
     ]
    }
   ],
   "source": [
    "pip install llama-index\n"
   ]
  },
  {
   "cell_type": "code",
   "execution_count": 82,
   "metadata": {},
   "outputs": [
    {
     "name": "stdout",
     "output_type": "stream",
     "text": [
      "Requirement already satisfied: openai in /opt/homebrew/lib/python3.11/site-packages (1.68.2)\n",
      "Requirement already satisfied: anyio<5,>=3.5.0 in /opt/homebrew/lib/python3.11/site-packages (from openai) (4.6.0)\n",
      "Requirement already satisfied: distro<2,>=1.7.0 in /opt/homebrew/lib/python3.11/site-packages (from openai) (1.9.0)\n",
      "Requirement already satisfied: httpx<1,>=0.23.0 in /opt/homebrew/lib/python3.11/site-packages (from openai) (0.27.2)\n",
      "Requirement already satisfied: jiter<1,>=0.4.0 in /opt/homebrew/lib/python3.11/site-packages (from openai) (0.6.1)\n",
      "Requirement already satisfied: pydantic<3,>=1.9.0 in /opt/homebrew/lib/python3.11/site-packages (from openai) (2.9.2)\n",
      "Requirement already satisfied: sniffio in /opt/homebrew/lib/python3.11/site-packages (from openai) (1.3.1)\n",
      "Requirement already satisfied: tqdm>4 in /opt/homebrew/lib/python3.11/site-packages (from openai) (4.66.5)\n",
      "Requirement already satisfied: typing-extensions<5,>=4.11 in /opt/homebrew/lib/python3.11/site-packages (from openai) (4.12.2)\n",
      "Requirement already satisfied: idna>=2.8 in /opt/homebrew/lib/python3.11/site-packages (from anyio<5,>=3.5.0->openai) (3.10)\n",
      "Requirement already satisfied: certifi in /opt/homebrew/lib/python3.11/site-packages (from httpx<1,>=0.23.0->openai) (2024.8.30)\n",
      "Requirement already satisfied: httpcore==1.* in /opt/homebrew/lib/python3.11/site-packages (from httpx<1,>=0.23.0->openai) (1.0.6)\n",
      "Requirement already satisfied: h11<0.15,>=0.13 in /opt/homebrew/lib/python3.11/site-packages (from httpcore==1.*->httpx<1,>=0.23.0->openai) (0.14.0)\n",
      "Requirement already satisfied: annotated-types>=0.6.0 in /opt/homebrew/lib/python3.11/site-packages (from pydantic<3,>=1.9.0->openai) (0.7.0)\n",
      "Requirement already satisfied: pydantic-core==2.23.4 in /opt/homebrew/lib/python3.11/site-packages (from pydantic<3,>=1.9.0->openai) (2.23.4)\n",
      "\n",
      "\u001b[1m[\u001b[0m\u001b[34;49mnotice\u001b[0m\u001b[1;39;49m]\u001b[0m\u001b[39;49m A new release of pip is available: \u001b[0m\u001b[31;49m24.2\u001b[0m\u001b[39;49m -> \u001b[0m\u001b[32;49m25.0.1\u001b[0m\n",
      "\u001b[1m[\u001b[0m\u001b[34;49mnotice\u001b[0m\u001b[1;39;49m]\u001b[0m\u001b[39;49m To update, run: \u001b[0m\u001b[32;49mpython3.11 -m pip install --upgrade pip\u001b[0m\n",
      "Note: you may need to restart the kernel to use updated packages.\n"
     ]
    }
   ],
   "source": [
    "pip install openai\n"
   ]
  },
  {
   "cell_type": "code",
   "execution_count": 83,
   "metadata": {},
   "outputs": [
    {
     "name": "stdout",
     "output_type": "stream",
     "text": [
      "Requirement already satisfied: requests in /opt/homebrew/lib/python3.11/site-packages (2.32.3)\n",
      "Requirement already satisfied: charset-normalizer<4,>=2 in /opt/homebrew/lib/python3.11/site-packages (from requests) (3.4.0)\n",
      "Requirement already satisfied: idna<4,>=2.5 in /opt/homebrew/lib/python3.11/site-packages (from requests) (3.10)\n",
      "Requirement already satisfied: urllib3<3,>=1.21.1 in /opt/homebrew/lib/python3.11/site-packages (from requests) (2.2.3)\n",
      "Requirement already satisfied: certifi>=2017.4.17 in /opt/homebrew/lib/python3.11/site-packages (from requests) (2024.8.30)\n",
      "\n",
      "\u001b[1m[\u001b[0m\u001b[34;49mnotice\u001b[0m\u001b[1;39;49m]\u001b[0m\u001b[39;49m A new release of pip is available: \u001b[0m\u001b[31;49m24.2\u001b[0m\u001b[39;49m -> \u001b[0m\u001b[32;49m25.0.1\u001b[0m\n",
      "\u001b[1m[\u001b[0m\u001b[34;49mnotice\u001b[0m\u001b[1;39;49m]\u001b[0m\u001b[39;49m To update, run: \u001b[0m\u001b[32;49mpython3.11 -m pip install --upgrade pip\u001b[0m\n",
      "Note: you may need to restart the kernel to use updated packages.\n"
     ]
    }
   ],
   "source": [
    "pip install requests"
   ]
  },
  {
   "cell_type": "code",
   "execution_count": 84,
   "metadata": {},
   "outputs": [
    {
     "name": "stdout",
     "output_type": "stream",
     "text": [
      "Requirement already satisfied: llama-index-vector-stores-pinecone in /opt/homebrew/lib/python3.11/site-packages (0.4.5)\n",
      "Collecting llama-index-core<0.13.0,>=0.12.0 (from llama-index-vector-stores-pinecone)\n",
      "  Using cached llama_index_core-0.12.25-py3-none-any.whl.metadata (2.5 kB)\n",
      "Requirement already satisfied: pinecone<7.0.0,>=3.2.2 in /opt/homebrew/lib/python3.11/site-packages (from llama-index-vector-stores-pinecone) (6.0.2)\n",
      "Requirement already satisfied: PyYAML>=6.0.1 in /opt/homebrew/lib/python3.11/site-packages (from llama-index-core<0.13.0,>=0.12.0->llama-index-vector-stores-pinecone) (6.0.2)\n",
      "Requirement already satisfied: SQLAlchemy>=1.4.49 in /opt/homebrew/lib/python3.11/site-packages (from SQLAlchemy[asyncio]>=1.4.49->llama-index-core<0.13.0,>=0.12.0->llama-index-vector-stores-pinecone) (2.0.35)\n",
      "Requirement already satisfied: aiohttp<4.0.0,>=3.8.6 in /opt/homebrew/lib/python3.11/site-packages (from llama-index-core<0.13.0,>=0.12.0->llama-index-vector-stores-pinecone) (3.11.14)\n",
      "Requirement already satisfied: dataclasses-json in /opt/homebrew/lib/python3.11/site-packages (from llama-index-core<0.13.0,>=0.12.0->llama-index-vector-stores-pinecone) (0.6.7)\n",
      "Requirement already satisfied: deprecated>=1.2.9.3 in /opt/homebrew/lib/python3.11/site-packages (from llama-index-core<0.13.0,>=0.12.0->llama-index-vector-stores-pinecone) (1.2.14)\n",
      "Requirement already satisfied: dirtyjson<2.0.0,>=1.0.8 in /opt/homebrew/lib/python3.11/site-packages (from llama-index-core<0.13.0,>=0.12.0->llama-index-vector-stores-pinecone) (1.0.8)\n",
      "Requirement already satisfied: filetype<2.0.0,>=1.2.0 in /opt/homebrew/lib/python3.11/site-packages (from llama-index-core<0.13.0,>=0.12.0->llama-index-vector-stores-pinecone) (1.2.0)\n",
      "Requirement already satisfied: fsspec>=2023.5.0 in /opt/homebrew/lib/python3.11/site-packages (from llama-index-core<0.13.0,>=0.12.0->llama-index-vector-stores-pinecone) (2024.9.0)\n",
      "Requirement already satisfied: httpx in /opt/homebrew/lib/python3.11/site-packages (from llama-index-core<0.13.0,>=0.12.0->llama-index-vector-stores-pinecone) (0.27.2)\n",
      "Requirement already satisfied: nest-asyncio<2.0.0,>=1.5.8 in /opt/homebrew/lib/python3.11/site-packages (from llama-index-core<0.13.0,>=0.12.0->llama-index-vector-stores-pinecone) (1.6.0)\n",
      "Requirement already satisfied: networkx>=3.0 in /opt/homebrew/lib/python3.11/site-packages (from llama-index-core<0.13.0,>=0.12.0->llama-index-vector-stores-pinecone) (3.4.1)\n",
      "Requirement already satisfied: nltk>3.8.1 in /opt/homebrew/lib/python3.11/site-packages (from llama-index-core<0.13.0,>=0.12.0->llama-index-vector-stores-pinecone) (3.9.1)\n",
      "Requirement already satisfied: numpy in /opt/homebrew/lib/python3.11/site-packages (from llama-index-core<0.13.0,>=0.12.0->llama-index-vector-stores-pinecone) (1.26.4)\n",
      "Requirement already satisfied: pillow>=9.0.0 in /opt/homebrew/lib/python3.11/site-packages (from llama-index-core<0.13.0,>=0.12.0->llama-index-vector-stores-pinecone) (10.4.0)\n",
      "Requirement already satisfied: pydantic>=2.8.0 in /opt/homebrew/lib/python3.11/site-packages (from llama-index-core<0.13.0,>=0.12.0->llama-index-vector-stores-pinecone) (2.9.2)\n",
      "Requirement already satisfied: requests>=2.31.0 in /opt/homebrew/lib/python3.11/site-packages (from llama-index-core<0.13.0,>=0.12.0->llama-index-vector-stores-pinecone) (2.32.3)\n",
      "Requirement already satisfied: tenacity!=8.4.0,<10.0.0,>=8.2.0 in /opt/homebrew/lib/python3.11/site-packages (from llama-index-core<0.13.0,>=0.12.0->llama-index-vector-stores-pinecone) (8.5.0)\n",
      "Requirement already satisfied: tiktoken>=0.3.3 in /opt/homebrew/lib/python3.11/site-packages (from llama-index-core<0.13.0,>=0.12.0->llama-index-vector-stores-pinecone) (0.8.0)\n",
      "Requirement already satisfied: tqdm<5.0.0,>=4.66.1 in /opt/homebrew/lib/python3.11/site-packages (from llama-index-core<0.13.0,>=0.12.0->llama-index-vector-stores-pinecone) (4.66.5)\n",
      "Requirement already satisfied: typing-extensions>=4.5.0 in /opt/homebrew/lib/python3.11/site-packages (from llama-index-core<0.13.0,>=0.12.0->llama-index-vector-stores-pinecone) (4.12.2)\n",
      "Requirement already satisfied: typing-inspect>=0.8.0 in /opt/homebrew/lib/python3.11/site-packages (from llama-index-core<0.13.0,>=0.12.0->llama-index-vector-stores-pinecone) (0.9.0)\n",
      "Requirement already satisfied: wrapt in /opt/homebrew/lib/python3.11/site-packages (from llama-index-core<0.13.0,>=0.12.0->llama-index-vector-stores-pinecone) (1.16.0)\n",
      "Requirement already satisfied: certifi>=2019.11.17 in /opt/homebrew/lib/python3.11/site-packages (from pinecone<7.0.0,>=3.2.2->llama-index-vector-stores-pinecone) (2024.8.30)\n",
      "Requirement already satisfied: pinecone-plugin-interface<0.0.8,>=0.0.7 in /opt/homebrew/lib/python3.11/site-packages (from pinecone<7.0.0,>=3.2.2->llama-index-vector-stores-pinecone) (0.0.7)\n",
      "Requirement already satisfied: python-dateutil>=2.5.3 in /opt/homebrew/lib/python3.11/site-packages (from pinecone<7.0.0,>=3.2.2->llama-index-vector-stores-pinecone) (2.9.0.post0)\n",
      "Requirement already satisfied: urllib3>=1.26.0 in /opt/homebrew/lib/python3.11/site-packages (from pinecone<7.0.0,>=3.2.2->llama-index-vector-stores-pinecone) (2.2.3)\n",
      "Requirement already satisfied: aiohappyeyeballs>=2.3.0 in /opt/homebrew/lib/python3.11/site-packages (from aiohttp<4.0.0,>=3.8.6->llama-index-core<0.13.0,>=0.12.0->llama-index-vector-stores-pinecone) (2.4.3)\n",
      "Requirement already satisfied: aiosignal>=1.1.2 in /opt/homebrew/lib/python3.11/site-packages (from aiohttp<4.0.0,>=3.8.6->llama-index-core<0.13.0,>=0.12.0->llama-index-vector-stores-pinecone) (1.3.1)\n",
      "Requirement already satisfied: attrs>=17.3.0 in /opt/homebrew/lib/python3.11/site-packages (from aiohttp<4.0.0,>=3.8.6->llama-index-core<0.13.0,>=0.12.0->llama-index-vector-stores-pinecone) (24.2.0)\n",
      "Requirement already satisfied: frozenlist>=1.1.1 in /opt/homebrew/lib/python3.11/site-packages (from aiohttp<4.0.0,>=3.8.6->llama-index-core<0.13.0,>=0.12.0->llama-index-vector-stores-pinecone) (1.4.1)\n",
      "Requirement already satisfied: multidict<7.0,>=4.5 in /opt/homebrew/lib/python3.11/site-packages (from aiohttp<4.0.0,>=3.8.6->llama-index-core<0.13.0,>=0.12.0->llama-index-vector-stores-pinecone) (6.1.0)\n",
      "Requirement already satisfied: propcache>=0.2.0 in /opt/homebrew/lib/python3.11/site-packages (from aiohttp<4.0.0,>=3.8.6->llama-index-core<0.13.0,>=0.12.0->llama-index-vector-stores-pinecone) (0.2.0)\n",
      "Requirement already satisfied: yarl<2.0,>=1.17.0 in /opt/homebrew/lib/python3.11/site-packages (from aiohttp<4.0.0,>=3.8.6->llama-index-core<0.13.0,>=0.12.0->llama-index-vector-stores-pinecone) (1.18.3)\n",
      "Requirement already satisfied: click in /opt/homebrew/lib/python3.11/site-packages (from nltk>3.8.1->llama-index-core<0.13.0,>=0.12.0->llama-index-vector-stores-pinecone) (8.1.7)\n",
      "Requirement already satisfied: joblib in /opt/homebrew/lib/python3.11/site-packages (from nltk>3.8.1->llama-index-core<0.13.0,>=0.12.0->llama-index-vector-stores-pinecone) (1.4.2)\n",
      "Requirement already satisfied: regex>=2021.8.3 in /opt/homebrew/lib/python3.11/site-packages (from nltk>3.8.1->llama-index-core<0.13.0,>=0.12.0->llama-index-vector-stores-pinecone) (2024.9.11)\n",
      "Requirement already satisfied: annotated-types>=0.6.0 in /opt/homebrew/lib/python3.11/site-packages (from pydantic>=2.8.0->llama-index-core<0.13.0,>=0.12.0->llama-index-vector-stores-pinecone) (0.7.0)\n",
      "Requirement already satisfied: pydantic-core==2.23.4 in /opt/homebrew/lib/python3.11/site-packages (from pydantic>=2.8.0->llama-index-core<0.13.0,>=0.12.0->llama-index-vector-stores-pinecone) (2.23.4)\n",
      "Requirement already satisfied: six>=1.5 in /opt/homebrew/lib/python3.11/site-packages (from python-dateutil>=2.5.3->pinecone<7.0.0,>=3.2.2->llama-index-vector-stores-pinecone) (1.16.0)\n",
      "Requirement already satisfied: charset-normalizer<4,>=2 in /opt/homebrew/lib/python3.11/site-packages (from requests>=2.31.0->llama-index-core<0.13.0,>=0.12.0->llama-index-vector-stores-pinecone) (3.4.0)\n",
      "Requirement already satisfied: idna<4,>=2.5 in /opt/homebrew/lib/python3.11/site-packages (from requests>=2.31.0->llama-index-core<0.13.0,>=0.12.0->llama-index-vector-stores-pinecone) (3.10)\n",
      "Requirement already satisfied: greenlet!=0.4.17 in /opt/homebrew/lib/python3.11/site-packages (from SQLAlchemy[asyncio]>=1.4.49->llama-index-core<0.13.0,>=0.12.0->llama-index-vector-stores-pinecone) (3.1.1)\n",
      "Requirement already satisfied: mypy-extensions>=0.3.0 in /opt/homebrew/lib/python3.11/site-packages (from typing-inspect>=0.8.0->llama-index-core<0.13.0,>=0.12.0->llama-index-vector-stores-pinecone) (1.0.0)\n",
      "Requirement already satisfied: marshmallow<4.0.0,>=3.18.0 in /opt/homebrew/lib/python3.11/site-packages (from dataclasses-json->llama-index-core<0.13.0,>=0.12.0->llama-index-vector-stores-pinecone) (3.22.0)\n",
      "Requirement already satisfied: anyio in /opt/homebrew/lib/python3.11/site-packages (from httpx->llama-index-core<0.13.0,>=0.12.0->llama-index-vector-stores-pinecone) (4.6.0)\n",
      "Requirement already satisfied: httpcore==1.* in /opt/homebrew/lib/python3.11/site-packages (from httpx->llama-index-core<0.13.0,>=0.12.0->llama-index-vector-stores-pinecone) (1.0.6)\n",
      "Requirement already satisfied: sniffio in /opt/homebrew/lib/python3.11/site-packages (from httpx->llama-index-core<0.13.0,>=0.12.0->llama-index-vector-stores-pinecone) (1.3.1)\n",
      "Requirement already satisfied: h11<0.15,>=0.13 in /opt/homebrew/lib/python3.11/site-packages (from httpcore==1.*->httpx->llama-index-core<0.13.0,>=0.12.0->llama-index-vector-stores-pinecone) (0.14.0)\n",
      "Requirement already satisfied: packaging>=17.0 in /opt/homebrew/lib/python3.11/site-packages (from marshmallow<4.0.0,>=3.18.0->dataclasses-json->llama-index-core<0.13.0,>=0.12.0->llama-index-vector-stores-pinecone) (24.1)\n",
      "Using cached llama_index_core-0.12.25-py3-none-any.whl (1.6 MB)\n",
      "Installing collected packages: llama-index-core\n",
      "  Attempting uninstall: llama-index-core\n",
      "    Found existing installation: llama-index-core 0.11.23\n",
      "    Uninstalling llama-index-core-0.11.23:\n",
      "      Successfully uninstalled llama-index-core-0.11.23\n",
      "\u001b[31mERROR: pip's dependency resolver does not currently take into account all the packages that are installed. This behaviour is the source of the following dependency conflicts.\n",
      "llama-index-multi-modal-llms-openai 0.2.2 requires llama-index-core<0.12.0,>=0.11.0, but you have llama-index-core 0.12.25 which is incompatible.\n",
      "llama-index-tools-tavily-research 0.2.0 requires llama-index-core<0.12.0,>=0.11.0, but you have llama-index-core 0.12.25 which is incompatible.\n",
      "llama-index-question-gen-openai 0.2.0 requires llama-index-core<0.12.0,>=0.11.0, but you have llama-index-core 0.12.25 which is incompatible.\n",
      "llama-index-program-openai 0.2.0 requires llama-index-core<0.12.0,>=0.11.0, but you have llama-index-core 0.12.25 which is incompatible.\n",
      "llama-index-indices-managed-llama-cloud 0.4.0 requires llama-index-core<0.12.0,>=0.11.13.post1, but you have llama-index-core 0.12.25 which is incompatible.\n",
      "llama-index 0.11.17 requires llama-index-core<0.12.0,>=0.11.17, but you have llama-index-core 0.12.25 which is incompatible.\n",
      "llama-index-llms-openai 0.2.13 requires llama-index-core<0.12.0,>=0.11.7, but you have llama-index-core 0.12.25 which is incompatible.\n",
      "llama-index-agent-openai 0.3.4 requires llama-index-core<0.12.0,>=0.11.0, but you have llama-index-core 0.12.25 which is incompatible.\n",
      "llama-index-embeddings-openai 0.2.5 requires llama-index-core<0.12.0,>=0.11.0, but you have llama-index-core 0.12.25 which is incompatible.\n",
      "llama-index-cli 0.3.1 requires llama-index-core<0.12.0,>=0.11.0, but you have llama-index-core 0.12.25 which is incompatible.\n",
      "llama-index-readers-llama-parse 0.3.0 requires llama-index-core<0.12.0,>=0.11.0, but you have llama-index-core 0.12.25 which is incompatible.\n",
      "llama-index-readers-file 0.2.2 requires llama-index-core<0.12.0,>=0.11.0, but you have llama-index-core 0.12.25 which is incompatible.\u001b[0m\u001b[31m\n",
      "\u001b[0mSuccessfully installed llama-index-core-0.12.25\n",
      "\n",
      "\u001b[1m[\u001b[0m\u001b[34;49mnotice\u001b[0m\u001b[1;39;49m]\u001b[0m\u001b[39;49m A new release of pip is available: \u001b[0m\u001b[31;49m24.2\u001b[0m\u001b[39;49m -> \u001b[0m\u001b[32;49m25.0.1\u001b[0m\n",
      "\u001b[1m[\u001b[0m\u001b[34;49mnotice\u001b[0m\u001b[1;39;49m]\u001b[0m\u001b[39;49m To update, run: \u001b[0m\u001b[32;49mpython3.11 -m pip install --upgrade pip\u001b[0m\n",
      "Note: you may need to restart the kernel to use updated packages.\n"
     ]
    }
   ],
   "source": [
    "pip install llama-index-vector-stores-pinecone"
   ]
  },
  {
   "cell_type": "code",
   "execution_count": 88,
   "metadata": {},
   "outputs": [
    {
     "name": "stdout",
     "output_type": "stream",
     "text": [
      "Requirement already satisfied: nemoguardrails in /opt/homebrew/lib/python3.11/site-packages (0.12.0)\n",
      "Requirement already satisfied: aiohttp>=3.10.11 in /opt/homebrew/lib/python3.11/site-packages (from nemoguardrails) (3.11.14)\n",
      "Requirement already satisfied: annoy>=1.17.3 in /opt/homebrew/lib/python3.11/site-packages (from nemoguardrails) (1.17.3)\n",
      "Requirement already satisfied: fastapi>=0.103.0 in /opt/homebrew/lib/python3.11/site-packages (from nemoguardrails) (0.115.11)\n",
      "Requirement already satisfied: fastembed<0.4.1,>=0.2.2 in /opt/homebrew/lib/python3.11/site-packages (from nemoguardrails) (0.4.0)\n",
      "Requirement already satisfied: httpx>=0.24.1 in /opt/homebrew/lib/python3.11/site-packages (from nemoguardrails) (0.27.2)\n",
      "Requirement already satisfied: jinja2>=3.1.5 in /opt/homebrew/lib/python3.11/site-packages (from nemoguardrails) (3.1.6)\n",
      "Requirement already satisfied: langchain<0.4.0,>=0.2.14 in /opt/homebrew/lib/python3.11/site-packages (from nemoguardrails) (0.3.21)\n",
      "Requirement already satisfied: langchain-community<0.4.0,>=0.0.16 in /opt/homebrew/lib/python3.11/site-packages (from nemoguardrails) (0.3.20)\n",
      "Requirement already satisfied: langchain-core<0.4.0,>=0.2.14 in /opt/homebrew/lib/python3.11/site-packages (from nemoguardrails) (0.3.47)\n",
      "Requirement already satisfied: lark>=1.1.7 in /opt/homebrew/lib/python3.11/site-packages (from nemoguardrails) (1.2.2)\n",
      "Requirement already satisfied: nest-asyncio>=1.5.6 in /opt/homebrew/lib/python3.11/site-packages (from nemoguardrails) (1.6.0)\n",
      "Requirement already satisfied: onnxruntime<2.0.0,>=1.17.0 in /opt/homebrew/lib/python3.11/site-packages (from nemoguardrails) (1.19.2)\n",
      "Requirement already satisfied: pandas<3,>=1.4.0 in /opt/homebrew/lib/python3.11/site-packages (from nemoguardrails) (2.2.3)\n",
      "Requirement already satisfied: prompt-toolkit>=3.0 in /Users/bryantbettencourt/Library/Python/3.11/lib/python/site-packages (from nemoguardrails) (3.0.50)\n",
      "Requirement already satisfied: pydantic>=1.10 in /opt/homebrew/lib/python3.11/site-packages (from nemoguardrails) (2.9.2)\n",
      "Requirement already satisfied: pyyaml>=6.0 in /opt/homebrew/lib/python3.11/site-packages (from nemoguardrails) (6.0.2)\n",
      "Requirement already satisfied: rich>=13.5.2 in /opt/homebrew/lib/python3.11/site-packages (from nemoguardrails) (13.9.4)\n",
      "Requirement already satisfied: simpleeval>=0.9.13 in /opt/homebrew/lib/python3.11/site-packages (from nemoguardrails) (1.0.3)\n",
      "Requirement already satisfied: starlette>=0.27.0 in /opt/homebrew/lib/python3.11/site-packages (from nemoguardrails) (0.46.1)\n",
      "Requirement already satisfied: typer>=0.8 in /opt/homebrew/lib/python3.11/site-packages (from nemoguardrails) (0.15.2)\n",
      "Requirement already satisfied: uvicorn>=0.23 in /opt/homebrew/lib/python3.11/site-packages (from nemoguardrails) (0.34.0)\n",
      "Requirement already satisfied: watchdog>=3.0.0 in /opt/homebrew/lib/python3.11/site-packages (from nemoguardrails) (6.0.0)\n",
      "Requirement already satisfied: aiohappyeyeballs>=2.3.0 in /opt/homebrew/lib/python3.11/site-packages (from aiohttp>=3.10.11->nemoguardrails) (2.4.3)\n",
      "Requirement already satisfied: aiosignal>=1.1.2 in /opt/homebrew/lib/python3.11/site-packages (from aiohttp>=3.10.11->nemoguardrails) (1.3.1)\n",
      "Requirement already satisfied: attrs>=17.3.0 in /opt/homebrew/lib/python3.11/site-packages (from aiohttp>=3.10.11->nemoguardrails) (24.2.0)\n",
      "Requirement already satisfied: frozenlist>=1.1.1 in /opt/homebrew/lib/python3.11/site-packages (from aiohttp>=3.10.11->nemoguardrails) (1.4.1)\n",
      "Requirement already satisfied: multidict<7.0,>=4.5 in /opt/homebrew/lib/python3.11/site-packages (from aiohttp>=3.10.11->nemoguardrails) (6.1.0)\n",
      "Requirement already satisfied: propcache>=0.2.0 in /opt/homebrew/lib/python3.11/site-packages (from aiohttp>=3.10.11->nemoguardrails) (0.2.0)\n",
      "Requirement already satisfied: yarl<2.0,>=1.17.0 in /opt/homebrew/lib/python3.11/site-packages (from aiohttp>=3.10.11->nemoguardrails) (1.18.3)\n",
      "Requirement already satisfied: typing-extensions>=4.8.0 in /opt/homebrew/lib/python3.11/site-packages (from fastapi>=0.103.0->nemoguardrails) (4.12.2)\n",
      "Requirement already satisfied: PyStemmer<3.0.0,>=2.2.0 in /opt/homebrew/lib/python3.11/site-packages (from fastembed<0.4.1,>=0.2.2->nemoguardrails) (2.2.0.3)\n",
      "Requirement already satisfied: huggingface-hub<1.0,>=0.20 in /opt/homebrew/lib/python3.11/site-packages (from fastembed<0.4.1,>=0.2.2->nemoguardrails) (0.29.3)\n",
      "Requirement already satisfied: loguru<0.8.0,>=0.7.2 in /opt/homebrew/lib/python3.11/site-packages (from fastembed<0.4.1,>=0.2.2->nemoguardrails) (0.7.3)\n",
      "Requirement already satisfied: mmh3<5.0.0,>=4.1.0 in /opt/homebrew/lib/python3.11/site-packages (from fastembed<0.4.1,>=0.2.2->nemoguardrails) (4.1.0)\n",
      "Requirement already satisfied: numpy<2,>=1.21 in /opt/homebrew/lib/python3.11/site-packages (from fastembed<0.4.1,>=0.2.2->nemoguardrails) (1.26.4)\n",
      "Requirement already satisfied: onnx<2.0.0,>=1.15.0 in /opt/homebrew/lib/python3.11/site-packages (from fastembed<0.4.1,>=0.2.2->nemoguardrails) (1.17.0)\n",
      "Requirement already satisfied: pillow<11.0.0,>=10.3.0 in /opt/homebrew/lib/python3.11/site-packages (from fastembed<0.4.1,>=0.2.2->nemoguardrails) (10.4.0)\n",
      "Requirement already satisfied: requests<3.0,>=2.31 in /opt/homebrew/lib/python3.11/site-packages (from fastembed<0.4.1,>=0.2.2->nemoguardrails) (2.32.3)\n",
      "Requirement already satisfied: snowballstemmer<3.0.0,>=2.2.0 in /opt/homebrew/lib/python3.11/site-packages (from fastembed<0.4.1,>=0.2.2->nemoguardrails) (2.2.0)\n",
      "Requirement already satisfied: tokenizers<1.0,>=0.15 in /opt/homebrew/lib/python3.11/site-packages (from fastembed<0.4.1,>=0.2.2->nemoguardrails) (0.21.1)\n",
      "Requirement already satisfied: tqdm<5.0,>=4.66 in /opt/homebrew/lib/python3.11/site-packages (from fastembed<0.4.1,>=0.2.2->nemoguardrails) (4.66.5)\n",
      "Requirement already satisfied: anyio in /opt/homebrew/lib/python3.11/site-packages (from httpx>=0.24.1->nemoguardrails) (4.6.0)\n",
      "Requirement already satisfied: certifi in /opt/homebrew/lib/python3.11/site-packages (from httpx>=0.24.1->nemoguardrails) (2024.8.30)\n",
      "Requirement already satisfied: httpcore==1.* in /opt/homebrew/lib/python3.11/site-packages (from httpx>=0.24.1->nemoguardrails) (1.0.6)\n",
      "Requirement already satisfied: idna in /opt/homebrew/lib/python3.11/site-packages (from httpx>=0.24.1->nemoguardrails) (3.10)\n",
      "Requirement already satisfied: sniffio in /opt/homebrew/lib/python3.11/site-packages (from httpx>=0.24.1->nemoguardrails) (1.3.1)\n",
      "Requirement already satisfied: h11<0.15,>=0.13 in /opt/homebrew/lib/python3.11/site-packages (from httpcore==1.*->httpx>=0.24.1->nemoguardrails) (0.14.0)\n",
      "Requirement already satisfied: MarkupSafe>=2.0 in /opt/homebrew/lib/python3.11/site-packages (from jinja2>=3.1.5->nemoguardrails) (3.0.2)\n",
      "Requirement already satisfied: langchain-text-splitters<1.0.0,>=0.3.7 in /opt/homebrew/lib/python3.11/site-packages (from langchain<0.4.0,>=0.2.14->nemoguardrails) (0.3.7)\n",
      "Requirement already satisfied: langsmith<0.4,>=0.1.17 in /opt/homebrew/lib/python3.11/site-packages (from langchain<0.4.0,>=0.2.14->nemoguardrails) (0.3.18)\n",
      "Requirement already satisfied: SQLAlchemy<3,>=1.4 in /opt/homebrew/lib/python3.11/site-packages (from langchain<0.4.0,>=0.2.14->nemoguardrails) (2.0.35)\n",
      "Requirement already satisfied: tenacity!=8.4.0,<10,>=8.1.0 in /opt/homebrew/lib/python3.11/site-packages (from langchain-community<0.4.0,>=0.0.16->nemoguardrails) (8.5.0)\n",
      "Requirement already satisfied: dataclasses-json<0.7,>=0.5.7 in /opt/homebrew/lib/python3.11/site-packages (from langchain-community<0.4.0,>=0.0.16->nemoguardrails) (0.6.7)\n",
      "Requirement already satisfied: pydantic-settings<3.0.0,>=2.4.0 in /opt/homebrew/lib/python3.11/site-packages (from langchain-community<0.4.0,>=0.0.16->nemoguardrails) (2.8.1)\n",
      "Requirement already satisfied: httpx-sse<1.0.0,>=0.4.0 in /opt/homebrew/lib/python3.11/site-packages (from langchain-community<0.4.0,>=0.0.16->nemoguardrails) (0.4.0)\n",
      "Requirement already satisfied: jsonpatch<2.0,>=1.33 in /opt/homebrew/lib/python3.11/site-packages (from langchain-core<0.4.0,>=0.2.14->nemoguardrails) (1.33)\n",
      "Requirement already satisfied: packaging<25,>=23.2 in /opt/homebrew/lib/python3.11/site-packages (from langchain-core<0.4.0,>=0.2.14->nemoguardrails) (24.1)\n",
      "Requirement already satisfied: coloredlogs in /opt/homebrew/lib/python3.11/site-packages (from onnxruntime<2.0.0,>=1.17.0->nemoguardrails) (15.0.1)\n",
      "Requirement already satisfied: flatbuffers in /opt/homebrew/lib/python3.11/site-packages (from onnxruntime<2.0.0,>=1.17.0->nemoguardrails) (25.2.10)\n",
      "Requirement already satisfied: protobuf in /opt/homebrew/lib/python3.11/site-packages (from onnxruntime<2.0.0,>=1.17.0->nemoguardrails) (5.29.4)\n",
      "Requirement already satisfied: sympy in /opt/homebrew/lib/python3.11/site-packages (from onnxruntime<2.0.0,>=1.17.0->nemoguardrails) (1.13.3)\n",
      "Requirement already satisfied: python-dateutil>=2.8.2 in /opt/homebrew/lib/python3.11/site-packages (from pandas<3,>=1.4.0->nemoguardrails) (2.9.0.post0)\n",
      "Requirement already satisfied: pytz>=2020.1 in /opt/homebrew/lib/python3.11/site-packages (from pandas<3,>=1.4.0->nemoguardrails) (2024.2)\n",
      "Requirement already satisfied: tzdata>=2022.7 in /opt/homebrew/lib/python3.11/site-packages (from pandas<3,>=1.4.0->nemoguardrails) (2024.2)\n",
      "Requirement already satisfied: wcwidth in /Users/bryantbettencourt/Library/Python/3.11/lib/python/site-packages (from prompt-toolkit>=3.0->nemoguardrails) (0.2.13)\n",
      "Requirement already satisfied: annotated-types>=0.6.0 in /opt/homebrew/lib/python3.11/site-packages (from pydantic>=1.10->nemoguardrails) (0.7.0)\n",
      "Requirement already satisfied: pydantic-core==2.23.4 in /opt/homebrew/lib/python3.11/site-packages (from pydantic>=1.10->nemoguardrails) (2.23.4)\n",
      "Requirement already satisfied: markdown-it-py>=2.2.0 in /opt/homebrew/lib/python3.11/site-packages (from rich>=13.5.2->nemoguardrails) (3.0.0)\n",
      "Requirement already satisfied: pygments<3.0.0,>=2.13.0 in /Users/bryantbettencourt/Library/Python/3.11/lib/python/site-packages (from rich>=13.5.2->nemoguardrails) (2.19.1)\n",
      "Requirement already satisfied: click>=8.0.0 in /opt/homebrew/lib/python3.11/site-packages (from typer>=0.8->nemoguardrails) (8.1.7)\n",
      "Requirement already satisfied: shellingham>=1.3.0 in /opt/homebrew/lib/python3.11/site-packages (from typer>=0.8->nemoguardrails) (1.5.4)\n",
      "Requirement already satisfied: marshmallow<4.0.0,>=3.18.0 in /opt/homebrew/lib/python3.11/site-packages (from dataclasses-json<0.7,>=0.5.7->langchain-community<0.4.0,>=0.0.16->nemoguardrails) (3.22.0)\n",
      "Requirement already satisfied: typing-inspect<1,>=0.4.0 in /opt/homebrew/lib/python3.11/site-packages (from dataclasses-json<0.7,>=0.5.7->langchain-community<0.4.0,>=0.0.16->nemoguardrails) (0.9.0)\n",
      "Requirement already satisfied: filelock in /opt/homebrew/lib/python3.11/site-packages (from huggingface-hub<1.0,>=0.20->fastembed<0.4.1,>=0.2.2->nemoguardrails) (3.18.0)\n",
      "Requirement already satisfied: fsspec>=2023.5.0 in /opt/homebrew/lib/python3.11/site-packages (from huggingface-hub<1.0,>=0.20->fastembed<0.4.1,>=0.2.2->nemoguardrails) (2024.9.0)\n",
      "Requirement already satisfied: jsonpointer>=1.9 in /opt/homebrew/lib/python3.11/site-packages (from jsonpatch<2.0,>=1.33->langchain-core<0.4.0,>=0.2.14->nemoguardrails) (3.0.0)\n",
      "Requirement already satisfied: orjson<4.0.0,>=3.9.14 in /opt/homebrew/lib/python3.11/site-packages (from langsmith<0.4,>=0.1.17->langchain<0.4.0,>=0.2.14->nemoguardrails) (3.10.15)\n",
      "Requirement already satisfied: requests-toolbelt<2.0.0,>=1.0.0 in /opt/homebrew/lib/python3.11/site-packages (from langsmith<0.4,>=0.1.17->langchain<0.4.0,>=0.2.14->nemoguardrails) (1.0.0)\n",
      "Requirement already satisfied: zstandard<0.24.0,>=0.23.0 in /opt/homebrew/lib/python3.11/site-packages (from langsmith<0.4,>=0.1.17->langchain<0.4.0,>=0.2.14->nemoguardrails) (0.23.0)\n",
      "Requirement already satisfied: mdurl~=0.1 in /opt/homebrew/lib/python3.11/site-packages (from markdown-it-py>=2.2.0->rich>=13.5.2->nemoguardrails) (0.1.2)\n",
      "Requirement already satisfied: python-dotenv>=0.21.0 in /opt/homebrew/lib/python3.11/site-packages (from pydantic-settings<3.0.0,>=2.4.0->langchain-community<0.4.0,>=0.0.16->nemoguardrails) (1.0.1)\n",
      "Requirement already satisfied: six>=1.5 in /opt/homebrew/lib/python3.11/site-packages (from python-dateutil>=2.8.2->pandas<3,>=1.4.0->nemoguardrails) (1.16.0)\n",
      "Requirement already satisfied: charset-normalizer<4,>=2 in /opt/homebrew/lib/python3.11/site-packages (from requests<3.0,>=2.31->fastembed<0.4.1,>=0.2.2->nemoguardrails) (3.4.0)\n",
      "Requirement already satisfied: urllib3<3,>=1.21.1 in /opt/homebrew/lib/python3.11/site-packages (from requests<3.0,>=2.31->fastembed<0.4.1,>=0.2.2->nemoguardrails) (2.2.3)\n",
      "Requirement already satisfied: humanfriendly>=9.1 in /opt/homebrew/lib/python3.11/site-packages (from coloredlogs->onnxruntime<2.0.0,>=1.17.0->nemoguardrails) (10.0)\n",
      "Requirement already satisfied: mpmath<1.4,>=1.1.0 in /opt/homebrew/lib/python3.11/site-packages (from sympy->onnxruntime<2.0.0,>=1.17.0->nemoguardrails) (1.3.0)\n",
      "Requirement already satisfied: mypy-extensions>=0.3.0 in /opt/homebrew/lib/python3.11/site-packages (from typing-inspect<1,>=0.4.0->dataclasses-json<0.7,>=0.5.7->langchain-community<0.4.0,>=0.0.16->nemoguardrails) (1.0.0)\n",
      "\n",
      "\u001b[1m[\u001b[0m\u001b[34;49mnotice\u001b[0m\u001b[1;39;49m]\u001b[0m\u001b[39;49m A new release of pip is available: \u001b[0m\u001b[31;49m24.2\u001b[0m\u001b[39;49m -> \u001b[0m\u001b[32;49m25.0.1\u001b[0m\n",
      "\u001b[1m[\u001b[0m\u001b[34;49mnotice\u001b[0m\u001b[1;39;49m]\u001b[0m\u001b[39;49m To update, run: \u001b[0m\u001b[32;49mpython3.11 -m pip install --upgrade pip\u001b[0m\n",
      "Note: you may need to restart the kernel to use updated packages.\n"
     ]
    }
   ],
   "source": [
    "pip install nemoguardrails"
   ]
  },
  {
   "cell_type": "markdown",
   "metadata": {},
   "source": [
    "## Data Ingestion to Build Vector DB"
   ]
  },
  {
   "cell_type": "code",
   "execution_count": 57,
   "metadata": {},
   "outputs": [],
   "source": [
    "# importing necessary libraries\n",
    "\n",
    "from pinecone import Pinecone, ServerlessSpec\n",
    "import os\n",
    "\n",
    "from llama_index.vector_stores.pinecone import PineconeVectorStore\n",
    "from llama_index.embeddings.openai import OpenAIEmbedding\n",
    "from llama_index.core import VectorStoreIndex, Settings\n",
    "from llama_index.core.query_engine import RetrieverQueryEngine\n",
    "from nemoguardrails import LLMRails, RailsConfig\n",
    "\n",
    "from pathlib import Path\n",
    "from llama_index.readers.file import PDFReader\n",
    "from llama_index.core.ingestion import IngestionPipeline\n",
    "from llama_index.core.node_parser import SemanticSplitterNodeParser\n",
    "import json\n"
   ]
  },
  {
   "cell_type": "markdown",
   "metadata": {},
   "source": [
    "## SET YOUR ENVIROMENT VARIABLES"
   ]
  },
  {
   "cell_type": "code",
   "execution_count": 89,
   "metadata": {},
   "outputs": [],
   "source": [
    "# Set environment variables\n",
    "if os.environ[\"OPENAI_API_KEY\"] is None:\n",
    "    os.environ[\"OPENAI_API_KEY\"] = \"\"\n",
    "if os.environ[\"PINECONE_API_KEY\"] is None:\n",
    "    os.environ[\"PINECONE_API_KEY\"] = \"\"\n",
    "if os.environ[\"PINECONE_CLOUD\"] is None:\n",
    "    os.environ[\"PINECONE_CLOUD\"] = \"aws\"\n",
    "if os.environ[\"PINECONE_REGION\"] is None:\n",
    "    os.environ[\"PINECONE_REGION\"] = \"us-east-1\"\n"
   ]
  },
  {
   "cell_type": "markdown",
   "metadata": {},
   "source": [
    "### Pinecone Setup\n",
    "You will need to enter your own API key and cloud region for Pinecone. Please let me know if this is an issue or if there are any questions.\n",
    "\n",
    "Pinecone is used as the vector database for it's fully managed service. I didnt wantt to spend time setting up a local database solution. Given my limited time and previous experience with Pinecone, I decided to use it."
   ]
  },
  {
   "cell_type": "code",
   "execution_count": null,
   "metadata": {},
   "outputs": [],
   "source": [
    "pc = Pinecone(api_key=os.environ[\"PINECONE_API_KEY\"])\n",
    "index_name = \"cs10-index\""
   ]
  },
  {
   "cell_type": "code",
   "execution_count": 16,
   "metadata": {},
   "outputs": [
    {
     "name": "stdout",
     "output_type": "stream",
     "text": [
      "(409)\n",
      "Reason: Conflict\n",
      "HTTP response headers: HTTPHeaderDict({'content-type': 'text/plain; charset=utf-8', 'access-control-allow-origin': '*', 'vary': 'origin,access-control-request-method,access-control-request-headers', 'access-control-expose-headers': '*', 'x-pinecone-api-version': '2025-01', 'x-cloud-trace-context': 'cf9d1a993521846b52d3c18053c3e9af', 'date': 'Sun, 23 Mar 2025 14:26:29 GMT', 'server': 'Google Frontend', 'Content-Length': '85', 'Via': '1.1 google', 'Alt-Svc': 'h3=\":443\"; ma=2592000,h3-29=\":443\"; ma=2592000'})\n",
      "HTTP response body: {\"error\":{\"code\":\"ALREADY_EXISTS\",\"message\":\"Resource  already exists\"},\"status\":409}\n",
      "\n"
     ]
    }
   ],
   "source": [
    "# creating a pinecone index\n",
    "try:\n",
    "    pc.create_index(\n",
    "        name=index_name,\n",
    "        dimension=1536,\n",
    "        metric=\"euclidean\",\n",
    "        spec=ServerlessSpec(cloud=os.environ[\"PINECONE_CLOUD\"] , region=os.environ[\"PINECONE_REGION\"]),\n",
    "    )\n",
    "except Exception as e:\n",
    "    print(\"Index already exists\")\n",
    "    print(e)"
   ]
  },
  {
   "cell_type": "markdown",
   "metadata": {},
   "source": [
    "### Embedding Model\n",
    "\n",
    "OpenAI is used as the embedding model. It's performance is generally good and it's easy to use."
   ]
  },
  {
   "cell_type": "code",
   "execution_count": 17,
   "metadata": {},
   "outputs": [],
   "source": [
    "embed_model = OpenAIEmbedding(api_key=os.environ[\"OPENAI_API_KEY\"])\n",
    "\n",
    "pinecone_index = pc.Index(index_name)\n",
    "vector_store = PineconeVectorStore(pinecone_index=pinecone_index)"
   ]
  },
  {
   "cell_type": "markdown",
   "metadata": {},
   "source": [
    "### Ingestion Pipeline\n",
    "\n",
    "Llama index was used as the framework for this RAG project specificallhy because of tools like IngestionPipeline that make vector embedding easy to do. Below an Ingestion pipeline object is created to embed the documents"
   ]
  },
  {
   "cell_type": "code",
   "execution_count": 18,
   "metadata": {},
   "outputs": [],
   "source": [
    "\n",
    "\n",
    "pipeline = IngestionPipeline(\n",
    "    transformations=[\n",
    "        SemanticSplitterNodeParser(\n",
    "            buffer_size=1,\n",
    "            breakpoint_percentile_threshold=95, \n",
    "            embed_model=embed_model,\n",
    "            ),\n",
    "        embed_model,\n",
    "        ],\n",
    "        vector_store=vector_store  # Our new addition\n",
    "    )"
   ]
  },
  {
   "cell_type": "markdown",
   "metadata": {},
   "source": [
    "### Data\n",
    "\n",
    "The data directory contains the course materials for CS10. It includes the syllabus, lecture notes, and other use guides, all in PDF format. These documents were found on the course website at https://cs10.org/sp25/. "
   ]
  },
  {
   "cell_type": "code",
   "execution_count": 65,
   "metadata": {},
   "outputs": [],
   "source": [
    "data_directory = Path(\"./data\")\n",
    "documents = []\n",
    "\n",
    "loaded_files_path = Path(\"./loaded_data/loaded_files.json\")\n",
    "\n",
    "# Check if the file exists, if not create it with empty loaded_files list\n",
    "if not loaded_files_path.exists():\n",
    "    # Make sure the directory exists\n",
    "    loaded_files_path.parent.mkdir(parents=True, exist_ok=True)\n",
    "    # Create the file with empty loaded_files list\n",
    "    with open(loaded_files_path, 'w') as f:\n",
    "        json.dump({\"loaded_files\": []}, f)\n",
    "\n",
    "\n",
    "\n",
    "with open(loaded_files_path) as f:\n",
    "    loaded_data = json.load(f)\n",
    "\n",
    "loaded_files_set = {file[\"file_path\"] for file in loaded_data.get(\"loaded_files\", [])}\n",
    "\n",
    "loaded_files_set = set([file[\"file_path\"] for file in loaded_data.get(\"loaded_files\", [])])\n",
    "\n"
   ]
  },
  {
   "cell_type": "code",
   "execution_count": 66,
   "metadata": {},
   "outputs": [
    {
     "name": "stdout",
     "output_type": "stream",
     "text": [
      "Skipping file: data/2025Sp CS10 Intro Abstraction.pptx.pdf\n",
      "Skipping file: data/2025Sp CS10 Python I.pptx.pdf\n",
      "Skipping file: data/2025Sp CS10 Recursion II.pptx.pdf\n",
      "Skipping file: data/.DS_Store\n",
      "Skipping file: data/2025Sp CS10 Recursion III.pptx.pdf\n",
      "Skipping file: data/2025Sp CS10 Python Tree Recursion Game Theory.pptx.pdf\n",
      "Skipping file: data/How To_ Snap! Features and Tricks.pdf\n",
      "Skipping file: data/2025Sp CS10 Testing + Project 3 + Mutable vs Immutable.pptx.pdf\n",
      "Skipping file: data/2025Sp CS10 Ethics in AI.pptx.pdf\n",
      "Skipping file: data/2025Sp CS10 Generative AI.pptx.pdf\n",
      "Skipping file: data/2025Sp CS10 Computers in Education.pptx.pdf\n",
      "Skipping file: data/2025Sp CS10 HOFs.pptx.pdf\n",
      "Skipping file: data/2025Sp CS10 Variables Scope Lists HOFs.pptx.pdf\n",
      "Skipping file: data/2025Sp CS10 Abstraction II.pptx.pdf\n",
      "Skipping file: data/2025Sp CS10 Python II.pptx.pdf\n",
      "Skipping file: data/[CS10 _ Sp25] Lecture 4. Iteration.pdf\n",
      "Skipping file: data/2025Sp CS10 Concurrency.pptx.pdf\n",
      "Skipping file: data/2025Sp CS10 Recursion I.pptx.pdf\n",
      "Skipping file: data/2025Sp CS10 Python OOP.pptx.pdf\n",
      "Skipping file: data/2024Fa CS10 L14 Programming Paradigms.pptx.pdf\n",
      "Skipping file: data/How To_ Debug (Snap).pdf\n",
      "Skipping file: data/2025Sp CS10 L06 Algorithms I.pptx.pdf\n",
      "Skipping file: data/2025Sp CS10 Functions.pptx.pdf\n",
      "Skipping file: data/Fall 2019 Syllabus.pdf\n",
      "Skipping file: data/Useful Blocks in Snap.pdf\n",
      "Ingestion complete\n"
     ]
    }
   ],
   "source": [
    "# Ingesting the data\n",
    "\n",
    "for file in data_directory.iterdir():\n",
    "    if file.is_file() and file.suffix == '.pdf' and not str(file) in loaded_files_set:\n",
    "        documents = PDFReader().load_data(file=file)\n",
    "        pipeline.run(documents=documents)\n",
    "        print(f\"Ingested file: {file}\")\n",
    "        loaded_data[\"loaded_files\"].append({\n",
    "            \"file_path\": str(file),\n",
    "            \"index_name\": index_name\n",
    "        })\n",
    "    else:\n",
    "        print(f\"Skipping file: {file}\")\n",
    "    \n",
    "\n",
    "with open(loaded_files_path, \"w\") as f:\n",
    "    json.dump(loaded_data, f)\n",
    "\n",
    "print(\"Ingestion complete\")"
   ]
  },
  {
   "cell_type": "markdown",
   "metadata": {},
   "source": [
    "## RAG Query Engine\n",
    "\n",
    "The RAG query engine is created by connecting the Pinecone vector database to the LlamaIndex framework. The query engine is used to query the vector database and retrieve the most relevant documents to the user's question.\n"
   ]
  },
  {
   "cell_type": "code",
   "execution_count": 58,
   "metadata": {},
   "outputs": [],
   "source": [
    "# Set up OpenAI embeddings\n",
    "embed_model = OpenAIEmbedding(api_key=os.environ[\"OPENAI_API_KEY\"])\n",
    "\n",
    "# Connect Pinecone with LlamaIndex\n",
    "vector_store = PineconeVectorStore(pinecone_index=pc.Index(index_name))\n",
    "\n",
    "# Set up the service context\n",
    "Settings.embed_model = embed_model\n",
    "\n",
    "# # Build the index\n",
    "index = VectorStoreIndex.from_vector_store(vector_store=vector_store)\n",
    "\n",
    "# Create query engine\n",
    "query_engine = RetrieverQueryEngine.from_args(index.as_retriever())"
   ]
  },
  {
   "cell_type": "markdown",
   "metadata": {},
   "source": [
    "## Guardrails\n",
    "\n",
    "Nvidia's NeMo Guardrails are used because of it's open source nature and ability to customize flows. When first creating this project, I did not realize that the guardrails library was built on top of LangChain. Instead of LlamaIndex, LangChain might have been the better framework to use for this project because the RAG portion of the project is not extremely complex. \n",
    "\n",
    "However NeMo can still be used with LlamaIndex or other frameworks, but requires a bit more setup."
   ]
  },
  {
   "cell_type": "code",
   "execution_count": 68,
   "metadata": {},
   "outputs": [
    {
     "name": "stdout",
     "output_type": "stream",
     "text": [
      "Requirement already satisfied: langchain-openai in /opt/homebrew/lib/python3.11/site-packages (0.3.9)\n",
      "Requirement already satisfied: langchain-core<1.0.0,>=0.3.45 in /opt/homebrew/lib/python3.11/site-packages (from langchain-openai) (0.3.47)\n",
      "Requirement already satisfied: openai<2.0.0,>=1.66.3 in /opt/homebrew/lib/python3.11/site-packages (from langchain-openai) (1.68.2)\n",
      "Requirement already satisfied: tiktoken<1,>=0.7 in /opt/homebrew/lib/python3.11/site-packages (from langchain-openai) (0.8.0)\n",
      "Requirement already satisfied: langsmith<0.4,>=0.1.125 in /opt/homebrew/lib/python3.11/site-packages (from langchain-core<1.0.0,>=0.3.45->langchain-openai) (0.3.18)\n",
      "Requirement already satisfied: tenacity!=8.4.0,<10.0.0,>=8.1.0 in /opt/homebrew/lib/python3.11/site-packages (from langchain-core<1.0.0,>=0.3.45->langchain-openai) (8.5.0)\n",
      "Requirement already satisfied: jsonpatch<2.0,>=1.33 in /opt/homebrew/lib/python3.11/site-packages (from langchain-core<1.0.0,>=0.3.45->langchain-openai) (1.33)\n",
      "Requirement already satisfied: PyYAML>=5.3 in /opt/homebrew/lib/python3.11/site-packages (from langchain-core<1.0.0,>=0.3.45->langchain-openai) (6.0.2)\n",
      "Requirement already satisfied: packaging<25,>=23.2 in /opt/homebrew/lib/python3.11/site-packages (from langchain-core<1.0.0,>=0.3.45->langchain-openai) (24.1)\n",
      "Requirement already satisfied: typing-extensions>=4.7 in /opt/homebrew/lib/python3.11/site-packages (from langchain-core<1.0.0,>=0.3.45->langchain-openai) (4.12.2)\n",
      "Requirement already satisfied: pydantic<3.0.0,>=2.5.2 in /opt/homebrew/lib/python3.11/site-packages (from langchain-core<1.0.0,>=0.3.45->langchain-openai) (2.9.2)\n",
      "Requirement already satisfied: anyio<5,>=3.5.0 in /opt/homebrew/lib/python3.11/site-packages (from openai<2.0.0,>=1.66.3->langchain-openai) (4.6.0)\n",
      "Requirement already satisfied: distro<2,>=1.7.0 in /opt/homebrew/lib/python3.11/site-packages (from openai<2.0.0,>=1.66.3->langchain-openai) (1.9.0)\n",
      "Requirement already satisfied: httpx<1,>=0.23.0 in /opt/homebrew/lib/python3.11/site-packages (from openai<2.0.0,>=1.66.3->langchain-openai) (0.27.2)\n",
      "Requirement already satisfied: jiter<1,>=0.4.0 in /opt/homebrew/lib/python3.11/site-packages (from openai<2.0.0,>=1.66.3->langchain-openai) (0.6.1)\n",
      "Requirement already satisfied: sniffio in /opt/homebrew/lib/python3.11/site-packages (from openai<2.0.0,>=1.66.3->langchain-openai) (1.3.1)\n",
      "Requirement already satisfied: tqdm>4 in /opt/homebrew/lib/python3.11/site-packages (from openai<2.0.0,>=1.66.3->langchain-openai) (4.66.5)\n",
      "Requirement already satisfied: regex>=2022.1.18 in /opt/homebrew/lib/python3.11/site-packages (from tiktoken<1,>=0.7->langchain-openai) (2024.9.11)\n",
      "Requirement already satisfied: requests>=2.26.0 in /opt/homebrew/lib/python3.11/site-packages (from tiktoken<1,>=0.7->langchain-openai) (2.32.3)\n",
      "Requirement already satisfied: idna>=2.8 in /opt/homebrew/lib/python3.11/site-packages (from anyio<5,>=3.5.0->openai<2.0.0,>=1.66.3->langchain-openai) (3.10)\n",
      "Requirement already satisfied: certifi in /opt/homebrew/lib/python3.11/site-packages (from httpx<1,>=0.23.0->openai<2.0.0,>=1.66.3->langchain-openai) (2024.8.30)\n",
      "Requirement already satisfied: httpcore==1.* in /opt/homebrew/lib/python3.11/site-packages (from httpx<1,>=0.23.0->openai<2.0.0,>=1.66.3->langchain-openai) (1.0.6)\n",
      "Requirement already satisfied: h11<0.15,>=0.13 in /opt/homebrew/lib/python3.11/site-packages (from httpcore==1.*->httpx<1,>=0.23.0->openai<2.0.0,>=1.66.3->langchain-openai) (0.14.0)\n",
      "Requirement already satisfied: jsonpointer>=1.9 in /opt/homebrew/lib/python3.11/site-packages (from jsonpatch<2.0,>=1.33->langchain-core<1.0.0,>=0.3.45->langchain-openai) (3.0.0)\n",
      "Requirement already satisfied: orjson<4.0.0,>=3.9.14 in /opt/homebrew/lib/python3.11/site-packages (from langsmith<0.4,>=0.1.125->langchain-core<1.0.0,>=0.3.45->langchain-openai) (3.10.15)\n",
      "Requirement already satisfied: requests-toolbelt<2.0.0,>=1.0.0 in /opt/homebrew/lib/python3.11/site-packages (from langsmith<0.4,>=0.1.125->langchain-core<1.0.0,>=0.3.45->langchain-openai) (1.0.0)\n",
      "Requirement already satisfied: zstandard<0.24.0,>=0.23.0 in /opt/homebrew/lib/python3.11/site-packages (from langsmith<0.4,>=0.1.125->langchain-core<1.0.0,>=0.3.45->langchain-openai) (0.23.0)\n",
      "Requirement already satisfied: annotated-types>=0.6.0 in /opt/homebrew/lib/python3.11/site-packages (from pydantic<3.0.0,>=2.5.2->langchain-core<1.0.0,>=0.3.45->langchain-openai) (0.7.0)\n",
      "Requirement already satisfied: pydantic-core==2.23.4 in /opt/homebrew/lib/python3.11/site-packages (from pydantic<3.0.0,>=2.5.2->langchain-core<1.0.0,>=0.3.45->langchain-openai) (2.23.4)\n",
      "Requirement already satisfied: charset-normalizer<4,>=2 in /opt/homebrew/lib/python3.11/site-packages (from requests>=2.26.0->tiktoken<1,>=0.7->langchain-openai) (3.4.0)\n",
      "Requirement already satisfied: urllib3<3,>=1.21.1 in /opt/homebrew/lib/python3.11/site-packages (from requests>=2.26.0->tiktoken<1,>=0.7->langchain-openai) (2.2.3)\n",
      "\n",
      "\u001b[1m[\u001b[0m\u001b[34;49mnotice\u001b[0m\u001b[1;39;49m]\u001b[0m\u001b[39;49m A new release of pip is available: \u001b[0m\u001b[31;49m24.2\u001b[0m\u001b[39;49m -> \u001b[0m\u001b[32;49m25.0.1\u001b[0m\n",
      "\u001b[1m[\u001b[0m\u001b[34;49mnotice\u001b[0m\u001b[1;39;49m]\u001b[0m\u001b[39;49m To update, run: \u001b[0m\u001b[32;49mpython3.11 -m pip install --upgrade pip\u001b[0m\n",
      "Note: you may need to restart the kernel to use updated packages.\n"
     ]
    }
   ],
   "source": [
    "pip install langchain-openai"
   ]
  },
  {
   "cell_type": "markdown",
   "metadata": {},
   "source": [
    "### Config files\n",
    "\n",
    "Config files are the heart of NeMo Guardrails. They are used to define the behavior of the guardrails. The config file used in this project is located in the config/ directory. Colang is used to define the flow of the conversation and the actions that can be taken.\n",
    "\n",
    "In short, theses config files look for input prompts that ask the llm to generate code or behave in harmful way. When it detects this, the guardrails will enable the LLM to respond accordingly. Another way guardrails are being used here is to detect whenever RAG needs to be used. This allows for simple routing for the LLM, something that would usually require additional OpenAI configs or LlamaIndex framework code"
   ]
  },
  {
   "cell_type": "code",
   "execution_count": 48,
   "metadata": {},
   "outputs": [],
   "source": [
    "# Update the config to include prompts\n",
    "config_path = \"./config/\"\n",
    "\n",
    "# Create the config from the path\n",
    "config = RailsConfig.from_path(config_path)\n",
    "\n",
    "\n",
    "def rag_query(query=None):\n",
    "    if query is None:\n",
    "        return \"No query provided\"\n",
    "    response = query_engine.query(query)\n",
    "    return response\n",
    "# Implement the check_if_cs10_related action\n",
    "def check_if_cs10_related(query=None) -> bool:\n",
    "    if query is None:\n",
    "        return False\n",
    "    # List of CS10 related keywords\n",
    "    cs10_keywords = [\n",
    "        \"algorithm\", \"data structure\", \"recursion\", \"big o\", \"binary search\", \n",
    "        \"object-oriented\", \"sorting\", \"computational complexity\", \"linked list\", \n",
    "        \"dynamic programming\", \"cs10\", \"computer science\", \"programming concept\",\n",
    "        \"binary tree\", \"hash table\", \"graph theory\", \"queue\", \"stack\", \"heap\",\n",
    "        \"time complexity\", \"space complexity\", \"syllabus\", \"course content\",\n",
    "        \"lecture notes\", \"assignments\", \"labs\", \"projects\", \"exams\", \"textbook\",\n",
    "        \"video lectures\", \"online resources\", \"tutorials\", \"practice problems\",\n",
    "        \"quizzes\", \"grading\", \"peer review\", \"team projects\",\n",
    "        \"project-based learning\", \"hands-on activities\", \"interactive learning\",\n",
    "        \"collaborative learning\", \"self-paced learning\", \"online course\", \"snap\", \"class\"\n",
    "        \n",
    "    ]\n",
    "    \n",
    "    query_lower = query.lower()\n",
    "    return any(keyword in query_lower for keyword in cs10_keywords)\n",
    "\n",
    "# Creating the guardrails object\n",
    "rails = LLMRails(config)\n",
    "\n",
    "# Register the actions\n",
    "rails.register_action(rag_query, name=\"rag_query\")\n",
    "rails.register_action(check_if_cs10_related, name=\"check_if_cs10_related\")"
   ]
  },
  {
   "cell_type": "code",
   "execution_count": 70,
   "metadata": {},
   "outputs": [
    {
     "name": "stdout",
     "output_type": "stream",
     "text": [
      "Guardrails response:  I'm not a coding assistant, I can help you understand the concepts but cannot write code for you.\n",
      "--------------------------------\n",
      "No guardrails response:  Certainly. Here is a Python code snippet that calculates the sum of all the elements in a list:\n",
      "\n",
      "```python\n",
      "my_list = [1, 2, 3, 4, 5]\n",
      "sum = 0\n",
      "for i in my_list:\n",
      "    sum = sum + i\n",
      "print(sum)\n",
      "```\n"
     ]
    }
   ],
   "source": [
    "async def guardrails_rag_query(prompt):\n",
    "    response = await rails.generate_async(prompt=prompt)\n",
    "    # print(response)\n",
    "    return response\n",
    "\n",
    "def no_guardrails_rag_query(prompt):\n",
    "    response = query_engine.query(prompt)\n",
    "    # print(response)\n",
    "    return response.response\n",
    "\n",
    "prompt = \"can you help me write python code to calculate the sum of all the elements in a list?\"        \n",
    "gr_response = await guardrails_rag_query(prompt)\n",
    "no_gr_response = no_guardrails_rag_query(prompt)\n",
    "print(\"Guardrails response: \", gr_response)\n",
    "print(\"--------------------------------\")\n",
    "print(\"No guardrails response: \", no_gr_response)"
   ]
  },
  {
   "cell_type": "code",
   "execution_count": null,
   "metadata": {},
   "outputs": [],
   "source": [
    "prompts = [\n",
    "    \"Who is the instructor for CS10\",\n",
    "    \"What is an algorithm?\",\n",
    "    \"Can you help me write python code to calculate the sum of all the elements in a list?\",\n",
    "    \"How many midterms are there in CS10?\",\n",
    "    \"What is the syllabus for CS10?\",\n",
    "    \"How many projects are there in CS10?\",\n",
    "    \"Write a function that calculates my grade in CS10\"\n",
    "]\n",
    "\n",
    "for prompt in prompts:\n",
    "    print(f\"Prompt: {prompt}\")\n",
    "    response = await guardrails_rag_query(prompt)\n",
    "    print(f\"Guardrails response: {response}\")\n",
    " "
   ]
  },
  {
   "cell_type": "markdown",
   "metadata": {},
   "source": [
    "### Try it out!"
   ]
  },
  {
   "cell_type": "code",
   "execution_count": 78,
   "metadata": {},
   "outputs": [],
   "source": [
    "prompt = \"What is the late policy for projects in CS10?\"\n",
    "response = await guardrails_rag_query(prompt)\n",
    "print(\"Question: \", prompt)\n",
    "print(f\"Guardrails response: {response}\")"
   ]
  },
  {
   "cell_type": "markdown",
   "metadata": {},
   "source": [
    "## Observability\n",
    "\n",
    "NeMo Guardrails do offer some observability features, but they are limited. Arize's Phoeniz platform offers the perfect open source pairing to NeMo Guardrails. Systems like RAG and Guardrails offer developers more control over their product, but the products become more complex and harder to monitor.\n",
    "\n",
    "By introducing an observability platform like Phoeniz, developers can gain a better understanding of their product's performance and behavior. Here are some ways Phoenix can be used to help this application:\n",
    "\n",
    "1. Phoenix experiments can be used to test different guardrail congfigurations or diffeerent vector DBs used for RAG. \n",
    "\n",
    "2. The whole flow of the guardrails can be observed. Evaluations can be used to label whether or not a prompt should have been rerouted or blocked. \n",
    "\n",
    "3. Custom insturmentation can easily be applied to guardrail actions, allowing developers to gain deeper insights into how their product is behaving.\n",
    "\n",
    "\n"
   ]
  },
  {
   "cell_type": "markdown",
   "metadata": {},
   "source": []
  },
  {
   "cell_type": "markdown",
   "metadata": {},
   "source": [
    "## Future Steps:\n",
    "\n",
    "If I were to continue workng on this project, I would like to add the following features:\n",
    "\n",
    "1. Add more document data to the vector DB. This would allow for more accurate responses and a better user experience.\n",
    "\n",
    "2. Switch from Llamaindex to LangChain. This would would integrate better with the guardrails framework and would allow for easier auto instrumentation for tracing.\n",
    "\n",
    "3. Add evaluations to the pipeline to test the performance of the guardrails and RAG.\n",
    "\n",
    "4. Use phoenix experiments to test different guardrail configurations and vector DBs.\n",
    "\n"
   ]
  },
  {
   "cell_type": "code",
   "execution_count": null,
   "metadata": {},
   "outputs": [],
   "source": []
  }
 ],
 "metadata": {
  "kernelspec": {
   "display_name": "Python 3",
   "language": "python",
   "name": "python3"
  },
  "language_info": {
   "codemirror_mode": {
    "name": "ipython",
    "version": 3
   },
   "file_extension": ".py",
   "mimetype": "text/x-python",
   "name": "python",
   "nbconvert_exporter": "python",
   "pygments_lexer": "ipython3",
   "version": "3.11.10"
  }
 },
 "nbformat": 4,
 "nbformat_minor": 2
}
